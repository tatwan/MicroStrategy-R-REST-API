{
 "cells": [
  {
   "cell_type": "markdown",
   "metadata": {},
   "source": [
    "# MicroStrategy REST API with R"
   ]
  },
  {
   "cell_type": "markdown",
   "metadata": {},
   "source": [
    "<a id='top'></a>\n",
    "### MicroStrategy Reference Material:\n",
    "*  MicroStrategy RESTful API Interactive (your Local Demo): http://yourmstrEnv.com/MicroStrategyLibrary/api-docs/\n",
    "* [MicroStrategy RESTful API Interactive (external demo)](https://demo.microstrategy.com/MicroStrategyLibrary/api-docs/index.html#/)\n",
    "* [MicroStrategy REST API Online Documentation](https://lw.microstrategy.com/msdz/MSDL/GARelease_Current/docs/projects/RESTSDK/Content/topics/REST_API/REST_API.htm)\n",
    "\n",
    "### Additional Resources/Inspirations:\n",
    "* [MicroStrategy Sample API Python Example by Robert Prochowicz](https://community.microstrategy.com/s/article/REST-API-10-9-code-example-in-Python)\n",
    "* [Machine Learning with Python On-Demand Video with Scott Rigney](https://www.microstrategy.com/us/resources/library/webcasts/machine-learning-with-python-train-models-on-trust)\n",
    "\n",
    "### R Library References:\n",
    "* [httr](http://httr.r-lib.org/)\n",
    "* [jsonlite](https://www.rdocumentation.org/packages/jsonlite/versions/1.5)\n",
    "\n",
    "### List of Code Examples :\n",
    "1. [login()](#auth)\n",
    "2. [sessionValidate()](#test)\n",
    "3. [userInfo()](#user)\n",
    "4. [listProjcets()](#projects)    \n",
    "5. [getLibrary()](#library)\n",
    "6. [searchObjects()](#search)\n",
    "7. [cubeObjects()](#cubeobjects)\n",
    "8. [Logout User()](#exit)\n",
    "\n",
    "---- WIP to be added -----\n",
    "9.  [Cube Instance](#cubeinstance)\n",
    "10. [Get Cube Data](#cubedata)\n",
    "11. [Create Cube](#createcube)\n",
    "12. [Write/publish a Cube](#writecube)\n"
   ]
  },
  {
   "cell_type": "markdown",
   "metadata": {},
   "source": [
    "### Import `httr` and `jsonlite` libraries"
   ]
  },
  {
   "cell_type": "code",
   "execution_count": 803,
   "metadata": {},
   "outputs": [],
   "source": [
    "library(httr)\n",
    "library(jsonlite)"
   ]
  },
  {
   "cell_type": "markdown",
   "metadata": {},
   "source": [
    "## Set Parameters \n",
    "\n",
    "Create the necessary varibales such as `username`, `password`, `projectid` and `baseURL`"
   ]
  },
  {
   "cell_type": "code",
   "execution_count": 804,
   "metadata": {},
   "outputs": [],
   "source": [
    "username <- 'Administrator'\n",
    "password <- ''\n",
    "baseURL <- \"http://youMstrEnv/MicroStrategyLibrary/api/\"\n",
    "projectId <- 'B19DEDCC11D4E0EFC000EB9495D0F44F'"
   ]
  },
  {
   "cell_type": "markdown",
   "metadata": {},
   "source": [
    "<a id='auth'></a>\n",
    "## Authentication: Returns authToken & SessionId\n",
    "[Top](#top)\n",
    "\n",
    "Implementation Notes (source: MicroStrategy Documentation):  \n",
    "Authenticate a user and create an HTTP session on the web server where the user’s MicroStrategy sessions are stored. This request returns an authorization token (X-MSTR-AuthToken) which will be submitted with subsequent requests. The body of the request contains the information needed to create the session. The loginMode parameter in the body specifies the authentication mode to use. You can authenticate with one of the following authentication modes: Standard (1), Anonymous (8), or LDAP (16). Authentication modes can be enabled through the System Administration REST APIs, if they are supported by the deployment. If you are not able to authenticate using any of the authentication modes, please contact your administrator to determine current support or currently enabled authentication modes.\n"
   ]
  },
  {
   "cell_type": "code",
   "execution_count": 805,
   "metadata": {},
   "outputs": [],
   "source": [
    "login <- function(baseURL, username, password) {\n",
    "    d <- list(username = username,\n",
    "             password = password,\n",
    "             loginMode = '1')\n",
    "    \n",
    "    r <- POST(paste(base_url , 'auth/login', sep = ''), query = d)\n",
    "    \n",
    "    httpstats <- http_status(r)\n",
    "    httpheader <- headers(r)\n",
    "    httpcookies <- cookies(r)\n",
    "\n",
    "    if (http_status(r)$category == 'Success') {\n",
    "      cat(\"Success\")\n",
    "      authToken <- httpheader$'x-mstr-authtoken'\n",
    "      sessionCoookies <- httpcookies$value\n",
    "      cat(\"\\nauthToken :\", authToken)\n",
    "      cat(\"\\nSessionCookie:\", sessionCoookies)\n",
    "      authList <- list(\"authToken\"=authToken, \"sessionId\"=sessionCoookies)  \n",
    "      return(authList)  \n",
    "    } else {\n",
    "      cat(httpstats$category, httpstats$reason, httpstats$message)\n",
    "    }\n",
    "}"
   ]
  },
  {
   "cell_type": "code",
   "execution_count": 822,
   "metadata": {},
   "outputs": [
    {
     "name": "stdout",
     "output_type": "stream",
     "text": [
      "Success\n",
      "authToken : k4vchhmjv7me39v9816gv3den2\n",
      "SessionCookie: 18E1E53ADDBA549D077EACE563C208AB"
     ]
    }
   ],
   "source": [
    "#return a list\n",
    "auth <- login(baseURL, username, password) "
   ]
  },
  {
   "cell_type": "markdown",
   "metadata": {},
   "source": [
    "<a id='test'></a>\n",
    "## Test Session\n",
    "[Top](#top)\n",
    "\n",
    "Implementation Notes (source: MicroStrategy Documentation):  \n",
    "Get information about a configuration session. You obtain the authorization token needed to execute the request using POST /auth/login; you pass the authorization token in the request header. Each time you call this endpoint, both the HTTP and Intelligence Server session timeouts are reset. This request returns information about the authenticated user, locale, timeout duration, maximum number of concurrent searches, and limit on number of instances kept in memory."
   ]
  },
  {
   "cell_type": "code",
   "execution_count": 823,
   "metadata": {},
   "outputs": [],
   "source": [
    "sessionValidate <- function(baseURL, auth){\n",
    "    \n",
    "    r <- GET(paste(base_url , 'sessions', sep = ''), \n",
    "             add_headers('X-MSTR-AuthToken'=auth$authToken, Accept = 'application/json', cookies=auth$sessionId))\n",
    "    \n",
    "    httpstats <- http_status(r)\n",
    "    httpheader <- headers(r)\n",
    "    httpcookies <- cookies(r)\n",
    "\n",
    "    if (http_status(r)$category == 'Success') {\n",
    "      print(toJSON(content(r)))\n",
    "    }  else {\n",
    "      cat(httpstats$category, httpstats$reason, httpstats$message)   \n",
    "    }\n",
    "}"
   ]
  },
  {
   "cell_type": "code",
   "execution_count": 824,
   "metadata": {},
   "outputs": [
    {
     "name": "stdout",
     "output_type": "stream",
     "text": [
      "{\"locale\":[1033],\"maxSearch\":[3],\"workingSet\":[10],\"timeout\":[600],\"id\":[\"54F3D26011D2896560009A8E67019608\"],\"fullName\":[\"Administrator\"],\"initials\":[\"A\"]} \n"
     ]
    }
   ],
   "source": [
    "sessionValidate(baseURL, auth)"
   ]
  },
  {
   "cell_type": "markdown",
   "metadata": {},
   "source": [
    "<a id='user'></a>\n",
    "## Get UserInfo\n",
    "[Top](#top)"
   ]
  },
  {
   "cell_type": "code",
   "execution_count": 825,
   "metadata": {},
   "outputs": [],
   "source": [
    "userInfo <- function(baseURL, auth){\n",
    "    \n",
    "     r <- GET(paste(baseURL , 'sessions/userInfo', sep = ''), \n",
    "             add_headers('X-MSTR-AuthToken'=auth$authToken, Accept = 'application/json', cookies=auth$sessionId))\n",
    "    \n",
    "    httpstats <- http_status(r)\n",
    "    httpheader <- headers(r)\n",
    "    httpcookies <- cookies(r)\n",
    "\n",
    "    if (http_status(r)$category == 'Success') {\n",
    "       a <- data.frame(content(r))\n",
    "       return(a)\n",
    "    }  else {\n",
    "      cat(httpstats$category, httpstats$reason, httpstats$message)   \n",
    "    }\n",
    "    \n",
    "}"
   ]
  },
  {
   "cell_type": "code",
   "execution_count": 827,
   "metadata": {},
   "outputs": [
    {
     "data": {
      "text/html": [
       "<table>\n",
       "<thead><tr><th scope=col>metadataUser</th><th scope=col>id</th><th scope=col>fullName</th><th scope=col>initials</th></tr></thead>\n",
       "<tbody>\n",
       "\t<tr><td>TRUE                            </td><td>54F3D26011D2896560009A8E67019608</td><td>Administrator                   </td><td>A                               </td></tr>\n",
       "</tbody>\n",
       "</table>\n"
      ],
      "text/latex": [
       "\\begin{tabular}{r|llll}\n",
       " metadataUser & id & fullName & initials\\\\\n",
       "\\hline\n",
       "\t TRUE                             & 54F3D26011D2896560009A8E67019608 & Administrator                    & A                               \\\\\n",
       "\\end{tabular}\n"
      ],
      "text/markdown": [
       "\n",
       "metadataUser | id | fullName | initials | \n",
       "|---|\n",
       "| TRUE                             | 54F3D26011D2896560009A8E67019608 | Administrator                    | A                                | \n",
       "\n",
       "\n"
      ],
      "text/plain": [
       "  metadataUser id                               fullName      initials\n",
       "1 TRUE         54F3D26011D2896560009A8E67019608 Administrator A       "
      ]
     },
     "metadata": {},
     "output_type": "display_data"
    }
   ],
   "source": [
    "# Returns a data.frame object\n",
    "\n",
    "user <- userInfo(baseURL, auth)\n",
    "user"
   ]
  },
  {
   "cell_type": "markdown",
   "metadata": {},
   "source": [
    "<a id='library'></a>\n",
    "## Get Library for user\n",
    "[Top](#top)\n",
    "\n",
    "Implementation Notes (source: MicroStrategy Documentation)  \n",
    "Get the library for the authenticated user. You obtain the authorization token needed to execute the request using POST /auth/login; you pass the authorization token in the request header."
   ]
  },
  {
   "cell_type": "code",
   "execution_count": 811,
   "metadata": {},
   "outputs": [],
   "source": [
    "getLibrary <- function(baseURL, auth, flag) {\n",
    "    \n",
    "     r <- GET(paste(baseURL , 'library?outputFlag=', flag, sep = ''), \n",
    "             add_headers('X-MSTR-AuthToken'=auth$authToken, Accept = 'application/json', cookies=auth$sessionId))\n",
    "    \n",
    "    httpstats <- http_status(r)\n",
    "    httpheader <- headers(r)\n",
    "    httpcookies <- cookies(r)\n",
    "\n",
    "    if (http_status(r)$category == 'Success') {\n",
    "       a <- fromJSON(toJSON(content(r)))[c('id', 'name', 'projectId', 'active','lastViewedTime')]\n",
    "       if (flag == 'DEFAULT'){\n",
    "           b <- 0\n",
    "           for (i in fromJSON(toJSON(content(r)))[c('target')]){\n",
    "             b<- (i[,'id'])\n",
    "             b <- data.frame(matrix(b, byrow = T), stringsAsFactors=FALSE)\n",
    "             colnames(b) <- \"targetId\"\n",
    "           }\n",
    "         a$targetId <- b$targetId\n",
    "       } \n",
    "       return(a)\n",
    "    }  else {\n",
    "      cat(httpstats$category, httpstats$reason, httpstats$message)   \n",
    "    }\n",
    "    \n",
    "}"
   ]
  },
  {
   "cell_type": "code",
   "execution_count": 828,
   "metadata": {},
   "outputs": [
    {
     "data": {
      "text/html": [
       "<table>\n",
       "<thead><tr><th scope=col>id</th><th scope=col>name</th><th scope=col>projectId</th><th scope=col>active</th><th scope=col>lastViewedTime</th><th scope=col>targetId</th></tr></thead>\n",
       "<tbody>\n",
       "\t<tr><td>1B979449411E30E4E4502F918158EA40</td><td>Category Analysis               </td><td>B19DEDCC11D4E0EFC000EB9495D0F44F</td><td>TRUE                            </td><td>2018-08-11T07:49:40.000+0000    </td><td>512EDAA1487128DBBCA43E8525E10A11</td></tr>\n",
       "\t<tr><td>21A521BA4DB47ADAEBE19E9E9F7EC7D9    </td><td>Executive Business User Data Dossier</td><td>B19DEDCC11D4E0EFC000EB9495D0F44F    </td><td>TRUE                                </td><td>2018-08-10T19:36:00.000+0000        </td><td>FC6E8B6F4950540FC3595093E0FBA306    </td></tr>\n",
       "\t<tr><td>80AFEAD447DE2430F7E41FBB1B1EFCBA</td><td>Category Breakdown Dossier      </td><td>B19DEDCC11D4E0EFC000EB9495D0F44F</td><td>TRUE                            </td><td>2018-08-10T21:36:32.000+0000    </td><td>95005DFF4C4829CF5EE6E98877726566</td></tr>\n",
       "</tbody>\n",
       "</table>\n"
      ],
      "text/latex": [
       "\\begin{tabular}{r|llllll}\n",
       " id & name & projectId & active & lastViewedTime & targetId\\\\\n",
       "\\hline\n",
       "\t 1B979449411E30E4E4502F918158EA40 & Category Analysis                & B19DEDCC11D4E0EFC000EB9495D0F44F & TRUE                             & 2018-08-11T07:49:40.000+0000     & 512EDAA1487128DBBCA43E8525E10A11\\\\\n",
       "\t 21A521BA4DB47ADAEBE19E9E9F7EC7D9     & Executive Business User Data Dossier & B19DEDCC11D4E0EFC000EB9495D0F44F     & TRUE                                 & 2018-08-10T19:36:00.000+0000         & FC6E8B6F4950540FC3595093E0FBA306    \\\\\n",
       "\t 80AFEAD447DE2430F7E41FBB1B1EFCBA & Category Breakdown Dossier       & B19DEDCC11D4E0EFC000EB9495D0F44F & TRUE                             & 2018-08-10T21:36:32.000+0000     & 95005DFF4C4829CF5EE6E98877726566\\\\\n",
       "\\end{tabular}\n"
      ],
      "text/markdown": [
       "\n",
       "id | name | projectId | active | lastViewedTime | targetId | \n",
       "|---|---|---|\n",
       "| 1B979449411E30E4E4502F918158EA40 | Category Analysis                | B19DEDCC11D4E0EFC000EB9495D0F44F | TRUE                             | 2018-08-11T07:49:40.000+0000     | 512EDAA1487128DBBCA43E8525E10A11 | \n",
       "| 21A521BA4DB47ADAEBE19E9E9F7EC7D9     | Executive Business User Data Dossier | B19DEDCC11D4E0EFC000EB9495D0F44F     | TRUE                                 | 2018-08-10T19:36:00.000+0000         | FC6E8B6F4950540FC3595093E0FBA306     | \n",
       "| 80AFEAD447DE2430F7E41FBB1B1EFCBA | Category Breakdown Dossier       | B19DEDCC11D4E0EFC000EB9495D0F44F | TRUE                             | 2018-08-10T21:36:32.000+0000     | 95005DFF4C4829CF5EE6E98877726566 | \n",
       "\n",
       "\n"
      ],
      "text/plain": [
       "  id                               name                                \n",
       "1 1B979449411E30E4E4502F918158EA40 Category Analysis                   \n",
       "2 21A521BA4DB47ADAEBE19E9E9F7EC7D9 Executive Business User Data Dossier\n",
       "3 80AFEAD447DE2430F7E41FBB1B1EFCBA Category Breakdown Dossier          \n",
       "  projectId                        active lastViewedTime              \n",
       "1 B19DEDCC11D4E0EFC000EB9495D0F44F TRUE   2018-08-11T07:49:40.000+0000\n",
       "2 B19DEDCC11D4E0EFC000EB9495D0F44F TRUE   2018-08-10T19:36:00.000+0000\n",
       "3 B19DEDCC11D4E0EFC000EB9495D0F44F TRUE   2018-08-10T21:36:32.000+0000\n",
       "  targetId                        \n",
       "1 512EDAA1487128DBBCA43E8525E10A11\n",
       "2 FC6E8B6F4950540FC3595093E0FBA306\n",
       "3 95005DFF4C4829CF5EE6E98877726566"
      ]
     },
     "metadata": {},
     "output_type": "display_data"
    }
   ],
   "source": [
    "# Return a data.frame object\n",
    "libraryInfo <- getLibrary(baseURL, auth, 'DEFAULT')\n",
    "libraryInfo"
   ]
  },
  {
   "cell_type": "markdown",
   "metadata": {},
   "source": [
    "<a id='projects'></a>\n",
    "## List of Projects\n",
    "[Top](#top)\n",
    "\n",
    "Implementation Notes (Source: MicroStrategy Documentation)  \n",
    "Get a list of projects which the authenticated user has access to. This returns the name, ID, description, alias, and status of each project; the status corresponds to values from EnumDSSXMLProjectStatus. You obtain the authorization token needed to execute the request using POST /auth/login; you pass the authorization token in the request header."
   ]
  },
  {
   "cell_type": "code",
   "execution_count": 813,
   "metadata": {},
   "outputs": [],
   "source": [
    "listProjects <- function(baseURL, auth) {\n",
    "    \n",
    "     r <- GET(paste(baseURL , 'projects', sep = ''), \n",
    "             add_headers('X-MSTR-AuthToken'=auth$authToken, Accept = 'application/json', cookies=auth$sessionId))\n",
    "    \n",
    "    httpstats <- http_status(r)\n",
    "    httpheader <- headers(r)\n",
    "    httpcookies <- cookies(r)\n",
    "    \n",
    "    if (http_status(r)$category == 'Success') {\n",
    "       a <- fromJSON(toJSON(content(r)))[c('id','name','description', 'status')]\n",
    "       return(a)\n",
    "    }  else {\n",
    "      cat(httpstats$category, httpstats$reason, httpstats$message)   \n",
    "    }\n",
    "\n",
    "}"
   ]
  },
  {
   "cell_type": "code",
   "execution_count": 829,
   "metadata": {
    "scrolled": false
   },
   "outputs": [
    {
     "data": {
      "text/html": [
       "<table>\n",
       "<thead><tr><th scope=col>id</th><th scope=col>name</th><th scope=col>description</th><th scope=col>status</th></tr></thead>\n",
       "<tbody>\n",
       "\t<tr><td>B19DEDCC11D4E0EFC000EB9495D0F44F                                                                                                                                                                                                                 </td><td>MicroStrategy Tutorial                                                                                                                                                                                                                           </td><td>MicroStrategy Tutorial project and application set designed to illustrate the platform's rich functionality. The theme is an Electronics, Books, Movies and Music store. Employees, Inventory, Finance, Product Sales and Suppliers are analyzed.</td><td>0                                                                                                                                                                                                                                                </td></tr>\n",
       "\t<tr><td>AF09B3E3458F78B4FBE4DEB68528BF7B                                                                                                                                                                                    </td><td>Human Resources Analysis Module                                                                                                                                                                                     </td><td>The Human Resources Analysis Module analyses workforce headcount, trends and profiles, employee attrition and recruitment, compensation and benefit costs and employee qualifications, performance and satisfaction.</td><td>0                                                                                                                                                                                                                   </td></tr>\n",
       "\t<tr><td>4DD3B04B40D227471401609D630C76ED</td><td>Enterprise Manager              </td><td>                                </td><td>0                               </td></tr>\n",
       "</tbody>\n",
       "</table>\n"
      ],
      "text/latex": [
       "\\begin{tabular}{r|llll}\n",
       " id & name & description & status\\\\\n",
       "\\hline\n",
       "\t B19DEDCC11D4E0EFC000EB9495D0F44F                                                                                                                                                                                                                  & MicroStrategy Tutorial                                                                                                                                                                                                                            & MicroStrategy Tutorial project and application set designed to illustrate the platform's rich functionality. The theme is an Electronics, Books, Movies and Music store. Employees, Inventory, Finance, Product Sales and Suppliers are analyzed. & 0                                                                                                                                                                                                                                                \\\\\n",
       "\t AF09B3E3458F78B4FBE4DEB68528BF7B                                                                                                                                                                                     & Human Resources Analysis Module                                                                                                                                                                                      & The Human Resources Analysis Module analyses workforce headcount, trends and profiles, employee attrition and recruitment, compensation and benefit costs and employee qualifications, performance and satisfaction. & 0                                                                                                                                                                                                                   \\\\\n",
       "\t 4DD3B04B40D227471401609D630C76ED & Enterprise Manager               &                                  & 0                               \\\\\n",
       "\\end{tabular}\n"
      ],
      "text/markdown": [
       "\n",
       "id | name | description | status | \n",
       "|---|---|---|\n",
       "| B19DEDCC11D4E0EFC000EB9495D0F44F                                                                                                                                                                                                                  | MicroStrategy Tutorial                                                                                                                                                                                                                            | MicroStrategy Tutorial project and application set designed to illustrate the platform's rich functionality. The theme is an Electronics, Books, Movies and Music store. Employees, Inventory, Finance, Product Sales and Suppliers are analyzed. | 0                                                                                                                                                                                                                                                 | \n",
       "| AF09B3E3458F78B4FBE4DEB68528BF7B                                                                                                                                                                                     | Human Resources Analysis Module                                                                                                                                                                                      | The Human Resources Analysis Module analyses workforce headcount, trends and profiles, employee attrition and recruitment, compensation and benefit costs and employee qualifications, performance and satisfaction. | 0                                                                                                                                                                                                                    | \n",
       "| 4DD3B04B40D227471401609D630C76ED | Enterprise Manager               |                                  | 0                                | \n",
       "\n",
       "\n"
      ],
      "text/plain": [
       "  id                               name                           \n",
       "1 B19DEDCC11D4E0EFC000EB9495D0F44F MicroStrategy Tutorial         \n",
       "2 AF09B3E3458F78B4FBE4DEB68528BF7B Human Resources Analysis Module\n",
       "3 4DD3B04B40D227471401609D630C76ED Enterprise Manager             \n",
       "  description                                                                                                                                                                                                                                      \n",
       "1 MicroStrategy Tutorial project and application set designed to illustrate the platform's rich functionality. The theme is an Electronics, Books, Movies and Music store. Employees, Inventory, Finance, Product Sales and Suppliers are analyzed.\n",
       "2 The Human Resources Analysis Module analyses workforce headcount, trends and profiles, employee attrition and recruitment, compensation and benefit costs and employee qualifications, performance and satisfaction.                             \n",
       "3                                                                                                                                                                                                                                                  \n",
       "  status\n",
       "1 0     \n",
       "2 0     \n",
       "3 0     "
      ]
     },
     "metadata": {},
     "output_type": "display_data"
    }
   ],
   "source": [
    "# Return a data.frame object\n",
    "projectList <- listProjects(baseURL, auth)\n",
    "projectList"
   ]
  },
  {
   "cell_type": "markdown",
   "metadata": {},
   "source": [
    "<a id='search'></a>\n",
    "## Search Objects\n",
    "[Top](#top)\n",
    "\n",
    "Implementation Notes (Source: MicroStrategy Documentation)  \n",
    "Use the stored results of the Quick Search engine to return search results and display them as a list. The Quick Search engine periodically indexes the metadata and stores the results in memory, making Quick Search very fast but with results that may not be the most recent. You obtain the authorization token needed to execute the request using POST /auth/login. You identify the project by specifying the project ID in the request header; you obtain the project ID using GET /projects. You specify the search criteria using query parameters in the request; criteria can include the root folder ID, the search domain, the type of object, whether to return ancestors of the object, and a search pattern such as Begins With or Exactly. You use the offset and limit query parameters to control paging behavior. The offset parameter specifies where to start returning search results, and the limit parameter specifies how many results to return."
   ]
  },
  {
   "cell_type": "code",
   "execution_count": 830,
   "metadata": {},
   "outputs": [],
   "source": [
    "searchObjects <- function(baseURL, auth, projectId, stype) {\n",
    "    \n",
    "    r <- GET(paste(baseURL , 'searches/results?type=', stype, sep = ''), \n",
    "             add_headers('X-MSTR-AuthToken'=auth$authToken, 'X-MSTR-ProjectID'=projectId,\n",
    "                         Accept = 'application/json', cookies=auth$sessionId))\n",
    "\n",
    "    httpstats <- http_status(r)\n",
    "    httpheader <- headers(r)\n",
    "    httpcookies <- cookies(r)\n",
    "    \n",
    "    if (http_status(r)$category == 'Success') {\n",
    "       tmp <-content(r)$result\n",
    "       df <- as.data.frame(tmp[[1]])\n",
    "        for (i in 2:length(tmp)){\n",
    "            df <- rbind(df, as.data.frame(tmp[[i]]))\n",
    "        }\n",
    "       return(df)\n",
    "    }  else {\n",
    "      cat(httpstats$category, httpstats$reason, httpstats$message)   \n",
    "    }\n",
    "    \n",
    "}\n"
   ]
  },
  {
   "cell_type": "code",
   "execution_count": 832,
   "metadata": {},
   "outputs": [
    {
     "data": {
      "text/html": [
       "<table>\n",
       "<thead><tr><th scope=col>name</th><th scope=col>id</th><th scope=col>type</th><th scope=col>subtype</th><th scope=col>extType</th><th scope=col>dateCreated</th><th scope=col>dateModified</th><th scope=col>version</th><th scope=col>acg</th><th scope=col>owner.name</th><th scope=col>owner.id</th></tr></thead>\n",
       "<tbody>\n",
       "\t<tr><td>Search for all objects of type Grid       </td><td>87F09D2EBB9B462CAC4581ABCAD97BBD          </td><td>39                                        </td><td>9984                                      </td><td>0                                         </td><td>2005-06-27T21:33:41.000+0000              </td><td>2010-09-13T10:40:53.000+0000              </td><td>08B3974B493CE1E84106EB825B71CB6A          </td><td>255                                       </td><td>Administrator                             </td><td>54F3D26011D2896560009A8E67019608          </td></tr>\n",
       "\t<tr><td>Search for all objects of type Text Prompt</td><td>8A7CAF697BB64191BA3E15FA10DEDA61          </td><td>39                                        </td><td>9984                                      </td><td>0                                         </td><td>2005-06-27T21:33:42.000+0000              </td><td>2009-02-23T13:33:46.000+0000              </td><td>AC6316004E27925A85DDDF928D276A43          </td><td>255                                       </td><td>Administrator                             </td><td>54F3D26011D2896560009A8E67019608          </td></tr>\n",
       "\t<tr><td>MicroStrategy Web User Objects            </td><td>9F4A56074EDD734CBEFFC79A68BC36AF          </td><td>39                                        </td><td>9984                                      </td><td>0                                         </td><td>2010-04-12T11:13:59.000+0000              </td><td>2010-04-12T11:14:31.000+0000              </td><td>5726EAF84C05E5B3854423A0E8BA1106          </td><td>255                                       </td><td>Administrator                             </td><td>54F3D26011D2896560009A8E67019608          </td></tr>\n",
       "\t<tr><td>Search for all objects of type Hierarchy  </td><td>A1468ECD38754F90B56B611635AC550E          </td><td>39                                        </td><td>9984                                      </td><td>0                                         </td><td>2005-06-27T21:33:39.000+0000              </td><td>2009-02-23T13:33:43.000+0000              </td><td>5E82734349853883096289A9CE83F9A2          </td><td>255                                       </td><td>Administrator                             </td><td>54F3D26011D2896560009A8E67019608          </td></tr>\n",
       "\t<tr><td>Search for all objects of type Column     </td><td>57048C8A11D437E2C000039187BD3A4F          </td><td>39                                        </td><td>9984                                      </td><td>0                                         </td><td>2001-01-02T20:46:32.000+0000              </td><td>2007-03-04T16:42:01.000+0000              </td><td>9F27DD6B4FBED44E68CB869371E61BCA          </td><td>255                                       </td><td>Administrator                             </td><td>54F3D26011D2896560009A8E67019608          </td></tr>\n",
       "\t<tr><td>Search for all objects of type Document   </td><td>57048CAE11D437E2C000039187BD3A4F          </td><td>39                                        </td><td>9984                                      </td><td>0                                         </td><td>2001-01-02T20:46:30.000+0000              </td><td>2008-01-21T16:10:31.000+0000              </td><td>398B629141FCDB835E2CEA9D72D990B1          </td><td>255                                       </td><td>Administrator                             </td><td>54F3D26011D2896560009A8E67019608          </td></tr>\n",
       "</tbody>\n",
       "</table>\n"
      ],
      "text/latex": [
       "\\begin{tabular}{r|lllllllllll}\n",
       " name & id & type & subtype & extType & dateCreated & dateModified & version & acg & owner.name & owner.id\\\\\n",
       "\\hline\n",
       "\t Search for all objects of type Grid        & 87F09D2EBB9B462CAC4581ABCAD97BBD           & 39                                         & 9984                                       & 0                                          & 2005-06-27T21:33:41.000+0000               & 2010-09-13T10:40:53.000+0000               & 08B3974B493CE1E84106EB825B71CB6A           & 255                                        & Administrator                              & 54F3D26011D2896560009A8E67019608          \\\\\n",
       "\t Search for all objects of type Text Prompt & 8A7CAF697BB64191BA3E15FA10DEDA61           & 39                                         & 9984                                       & 0                                          & 2005-06-27T21:33:42.000+0000               & 2009-02-23T13:33:46.000+0000               & AC6316004E27925A85DDDF928D276A43           & 255                                        & Administrator                              & 54F3D26011D2896560009A8E67019608          \\\\\n",
       "\t MicroStrategy Web User Objects             & 9F4A56074EDD734CBEFFC79A68BC36AF           & 39                                         & 9984                                       & 0                                          & 2010-04-12T11:13:59.000+0000               & 2010-04-12T11:14:31.000+0000               & 5726EAF84C05E5B3854423A0E8BA1106           & 255                                        & Administrator                              & 54F3D26011D2896560009A8E67019608          \\\\\n",
       "\t Search for all objects of type Hierarchy   & A1468ECD38754F90B56B611635AC550E           & 39                                         & 9984                                       & 0                                          & 2005-06-27T21:33:39.000+0000               & 2009-02-23T13:33:43.000+0000               & 5E82734349853883096289A9CE83F9A2           & 255                                        & Administrator                              & 54F3D26011D2896560009A8E67019608          \\\\\n",
       "\t Search for all objects of type Column      & 57048C8A11D437E2C000039187BD3A4F           & 39                                         & 9984                                       & 0                                          & 2001-01-02T20:46:32.000+0000               & 2007-03-04T16:42:01.000+0000               & 9F27DD6B4FBED44E68CB869371E61BCA           & 255                                        & Administrator                              & 54F3D26011D2896560009A8E67019608          \\\\\n",
       "\t Search for all objects of type Document    & 57048CAE11D437E2C000039187BD3A4F           & 39                                         & 9984                                       & 0                                          & 2001-01-02T20:46:30.000+0000               & 2008-01-21T16:10:31.000+0000               & 398B629141FCDB835E2CEA9D72D990B1           & 255                                        & Administrator                              & 54F3D26011D2896560009A8E67019608          \\\\\n",
       "\\end{tabular}\n"
      ],
      "text/markdown": [
       "\n",
       "name | id | type | subtype | extType | dateCreated | dateModified | version | acg | owner.name | owner.id | \n",
       "|---|---|---|---|---|---|\n",
       "| Search for all objects of type Grid        | 87F09D2EBB9B462CAC4581ABCAD97BBD           | 39                                         | 9984                                       | 0                                          | 2005-06-27T21:33:41.000+0000               | 2010-09-13T10:40:53.000+0000               | 08B3974B493CE1E84106EB825B71CB6A           | 255                                        | Administrator                              | 54F3D26011D2896560009A8E67019608           | \n",
       "| Search for all objects of type Text Prompt | 8A7CAF697BB64191BA3E15FA10DEDA61           | 39                                         | 9984                                       | 0                                          | 2005-06-27T21:33:42.000+0000               | 2009-02-23T13:33:46.000+0000               | AC6316004E27925A85DDDF928D276A43           | 255                                        | Administrator                              | 54F3D26011D2896560009A8E67019608           | \n",
       "| MicroStrategy Web User Objects             | 9F4A56074EDD734CBEFFC79A68BC36AF           | 39                                         | 9984                                       | 0                                          | 2010-04-12T11:13:59.000+0000               | 2010-04-12T11:14:31.000+0000               | 5726EAF84C05E5B3854423A0E8BA1106           | 255                                        | Administrator                              | 54F3D26011D2896560009A8E67019608           | \n",
       "| Search for all objects of type Hierarchy   | A1468ECD38754F90B56B611635AC550E           | 39                                         | 9984                                       | 0                                          | 2005-06-27T21:33:39.000+0000               | 2009-02-23T13:33:43.000+0000               | 5E82734349853883096289A9CE83F9A2           | 255                                        | Administrator                              | 54F3D26011D2896560009A8E67019608           | \n",
       "| Search for all objects of type Column      | 57048C8A11D437E2C000039187BD3A4F           | 39                                         | 9984                                       | 0                                          | 2001-01-02T20:46:32.000+0000               | 2007-03-04T16:42:01.000+0000               | 9F27DD6B4FBED44E68CB869371E61BCA           | 255                                        | Administrator                              | 54F3D26011D2896560009A8E67019608           | \n",
       "| Search for all objects of type Document    | 57048CAE11D437E2C000039187BD3A4F           | 39                                         | 9984                                       | 0                                          | 2001-01-02T20:46:30.000+0000               | 2008-01-21T16:10:31.000+0000               | 398B629141FCDB835E2CEA9D72D990B1           | 255                                        | Administrator                              | 54F3D26011D2896560009A8E67019608           | \n",
       "\n",
       "\n"
      ],
      "text/plain": [
       "  name                                       id                              \n",
       "1 Search for all objects of type Grid        87F09D2EBB9B462CAC4581ABCAD97BBD\n",
       "2 Search for all objects of type Text Prompt 8A7CAF697BB64191BA3E15FA10DEDA61\n",
       "3 MicroStrategy Web User Objects             9F4A56074EDD734CBEFFC79A68BC36AF\n",
       "4 Search for all objects of type Hierarchy   A1468ECD38754F90B56B611635AC550E\n",
       "5 Search for all objects of type Column      57048C8A11D437E2C000039187BD3A4F\n",
       "6 Search for all objects of type Document    57048CAE11D437E2C000039187BD3A4F\n",
       "  type subtype extType dateCreated                 \n",
       "1 39   9984    0       2005-06-27T21:33:41.000+0000\n",
       "2 39   9984    0       2005-06-27T21:33:42.000+0000\n",
       "3 39   9984    0       2010-04-12T11:13:59.000+0000\n",
       "4 39   9984    0       2005-06-27T21:33:39.000+0000\n",
       "5 39   9984    0       2001-01-02T20:46:32.000+0000\n",
       "6 39   9984    0       2001-01-02T20:46:30.000+0000\n",
       "  dateModified                 version                          acg\n",
       "1 2010-09-13T10:40:53.000+0000 08B3974B493CE1E84106EB825B71CB6A 255\n",
       "2 2009-02-23T13:33:46.000+0000 AC6316004E27925A85DDDF928D276A43 255\n",
       "3 2010-04-12T11:14:31.000+0000 5726EAF84C05E5B3854423A0E8BA1106 255\n",
       "4 2009-02-23T13:33:43.000+0000 5E82734349853883096289A9CE83F9A2 255\n",
       "5 2007-03-04T16:42:01.000+0000 9F27DD6B4FBED44E68CB869371E61BCA 255\n",
       "6 2008-01-21T16:10:31.000+0000 398B629141FCDB835E2CEA9D72D990B1 255\n",
       "  owner.name    owner.id                        \n",
       "1 Administrator 54F3D26011D2896560009A8E67019608\n",
       "2 Administrator 54F3D26011D2896560009A8E67019608\n",
       "3 Administrator 54F3D26011D2896560009A8E67019608\n",
       "4 Administrator 54F3D26011D2896560009A8E67019608\n",
       "5 Administrator 54F3D26011D2896560009A8E67019608\n",
       "6 Administrator 54F3D26011D2896560009A8E67019608"
      ]
     },
     "metadata": {},
     "output_type": "display_data"
    }
   ],
   "source": [
    "# Return a data.frame object\n",
    "mySearch <- searchObjects(baseURL, auth, projectId, '39')\n",
    "head(mySearch)"
   ]
  },
  {
   "cell_type": "markdown",
   "metadata": {},
   "source": [
    "<a id='cubeobjects'></a>\n",
    "## List Cube Objects\n",
    "[Top](#top)\n",
    "\n",
    "(mplementation Notes (Source: MicroStrategy Documentation)  \n",
    "Get the definition of a specific cube, including attributes and metrics. The cube can be either an Intelligent Cube or a Direct Data Access (DDA)/MDX cube. The in-memory cube definition provides information about all available objects without actually running any data query/report. The results can be used by other requests to help filter large datasets and retrieve values dynamically, helping with performance and scalability. You obtain the authorization token needed to execute the request using POST /auth/login; you pass the authorization token and the project ID in the request header. You specify the cube ID in the path of the request; this can be either an Intelligent cube ID or a DDA/MDX cube ID."
   ]
  },
  {
   "cell_type": "code",
   "execution_count": 833,
   "metadata": {},
   "outputs": [],
   "source": [
    "cubeObjects <- function(baseURL, auth, projectId, cubeId){\n",
    "    \n",
    "    r <- GET(paste(baseURL , 'cubes/', cubeId, sep = ''), \n",
    "             add_headers('X-MSTR-AuthToken'=auth$authToken, 'X-MSTR-ProjectID'=projectId,\n",
    "                         Accept = 'application/json', cookies=auth$sessionId))\n",
    "    \n",
    "    httpstats <- http_status(r)\n",
    "    httpheader <- headers(r)\n",
    "    httpcookies <- cookies(r)\n",
    "    \n",
    "     if (http_status(r)$category == 'Success') {\n",
    "       tmp <-content(r)$result\n",
    "       mtrcs <- tmp$definition$availableObjects$metrics\n",
    "       attr <- tmp$definition$availableObjects$attributes  \n",
    "       mna <- rbind(do.call(\"rbind\", attr)[, 1:3],do.call(\"rbind\", mtrcs))\n",
    "       return(mna)\n",
    "    }  else {\n",
    "      cat(httpstats$category, httpstats$reason, httpstats$message)   \n",
    "    }\n",
    "    \n",
    "    \n",
    "}\n"
   ]
  },
  {
   "cell_type": "code",
   "execution_count": 835,
   "metadata": {},
   "outputs": [
    {
     "data": {
      "text/html": [
       "<table>\n",
       "<thead><tr><th scope=col>name</th><th scope=col>id</th><th scope=col>type</th></tr></thead>\n",
       "<tbody>\n",
       "\t<tr><td>Country                         </td><td>8D679D3811D3E4981000E787EC6DE8A4</td><td>Attribute                       </td></tr>\n",
       "\t<tr><td>Catalog                         </td><td>8D679D3611D3E4981000E787EC6DE8A4</td><td>Attribute                       </td></tr>\n",
       "\t<tr><td>Category                        </td><td>8D679D3711D3E4981000E787EC6DE8A4</td><td>Attribute                       </td></tr>\n",
       "\t<tr><td>Subcategory                     </td><td>8D679D4F11D3E4981000E787EC6DE8A4</td><td>Attribute                       </td></tr>\n",
       "\t<tr><td>Cost                            </td><td>7FD5B69611D5AC76C000D98A4CC5F24F</td><td>Metric                          </td></tr>\n",
       "\t<tr><td>Gross Revenue                   </td><td>150349F04560BBA2592D019726DF77DD</td><td>Metric                          </td></tr>\n",
       "\t<tr><td>Units Sold                      </td><td>4C05190A11D3E877C000B3B2D86C964F</td><td>Metric                          </td></tr>\n",
       "</tbody>\n",
       "</table>\n"
      ],
      "text/latex": [
       "\\begin{tabular}{lll}\n",
       " name & id & type\\\\\n",
       "\\hline\n",
       "\t Country                          & 8D679D3811D3E4981000E787EC6DE8A4 & Attribute                       \\\\\n",
       "\t Catalog                          & 8D679D3611D3E4981000E787EC6DE8A4 & Attribute                       \\\\\n",
       "\t Category                         & 8D679D3711D3E4981000E787EC6DE8A4 & Attribute                       \\\\\n",
       "\t Subcategory                      & 8D679D4F11D3E4981000E787EC6DE8A4 & Attribute                       \\\\\n",
       "\t Cost                             & 7FD5B69611D5AC76C000D98A4CC5F24F & Metric                          \\\\\n",
       "\t Gross Revenue                    & 150349F04560BBA2592D019726DF77DD & Metric                          \\\\\n",
       "\t Units Sold                       & 4C05190A11D3E877C000B3B2D86C964F & Metric                          \\\\\n",
       "\\end{tabular}\n"
      ],
      "text/markdown": [
       "\n",
       "name | id | type | \n",
       "|---|---|---|---|---|---|---|\n",
       "| Country                          | 8D679D3811D3E4981000E787EC6DE8A4 | Attribute                        | \n",
       "| Catalog                          | 8D679D3611D3E4981000E787EC6DE8A4 | Attribute                        | \n",
       "| Category                         | 8D679D3711D3E4981000E787EC6DE8A4 | Attribute                        | \n",
       "| Subcategory                      | 8D679D4F11D3E4981000E787EC6DE8A4 | Attribute                        | \n",
       "| Cost                             | 7FD5B69611D5AC76C000D98A4CC5F24F | Metric                           | \n",
       "| Gross Revenue                    | 150349F04560BBA2592D019726DF77DD | Metric                           | \n",
       "| Units Sold                       | 4C05190A11D3E877C000B3B2D86C964F | Metric                           | \n",
       "\n",
       "\n"
      ],
      "text/plain": [
       "     name          id                               type     \n",
       "[1,] Country       8D679D3811D3E4981000E787EC6DE8A4 Attribute\n",
       "[2,] Catalog       8D679D3611D3E4981000E787EC6DE8A4 Attribute\n",
       "[3,] Category      8D679D3711D3E4981000E787EC6DE8A4 Attribute\n",
       "[4,] Subcategory   8D679D4F11D3E4981000E787EC6DE8A4 Attribute\n",
       "[5,] Cost          7FD5B69611D5AC76C000D98A4CC5F24F Metric   \n",
       "[6,] Gross Revenue 150349F04560BBA2592D019726DF77DD Metric   \n",
       "[7,] Units Sold    4C05190A11D3E877C000B3B2D86C964F Metric   "
      ]
     },
     "metadata": {},
     "output_type": "display_data"
    }
   ],
   "source": [
    "# Return a data.frame object\n",
    "cObjects <- cubeObjects(baseURL, auth, projectId, 'BD23848347017FC2C0B4509AED1AF7B4')\n",
    "cObjects"
   ]
  },
  {
   "cell_type": "markdown",
   "metadata": {},
   "source": [
    "<a id='exit'></a>\n",
    "##  Log Out and end session\n",
    "[Top](#top)"
   ]
  },
  {
   "cell_type": "code",
   "execution_count": 819,
   "metadata": {},
   "outputs": [],
   "source": [
    "logout <- function(baseURL, auth){\n",
    "     r <- GET(paste(base_url , 'auth/logout', sep = ''), \n",
    "             add_headers('X-MSTR-AuthToken'=auth$authToken, Accept = 'application/json', cookies=auth$sessionId))\n",
    "    httpstats <- http_status(r)\n",
    "    httpheader <- headers(r)\n",
    "    httpcookies <- cookies(r)\n",
    "    \n",
    "    if (http_status(r)$category == 'Success') {\n",
    "        print(\"Logged Out\")\n",
    "    } else {\n",
    "        print(httpstats$category, httpstats$reason, httpstats$message) \n",
    "    }\n",
    "    \n",
    "}"
   ]
  },
  {
   "cell_type": "code",
   "execution_count": 820,
   "metadata": {},
   "outputs": [
    {
     "name": "stdout",
     "output_type": "stream",
     "text": [
      "[1] \"Logged Out\"\n"
     ]
    }
   ],
   "source": [
    "logout(baseURL, auth)"
   ]
  },
  {
   "cell_type": "code",
   "execution_count": null,
   "metadata": {},
   "outputs": [],
   "source": []
  }
 ],
 "metadata": {
  "kernelspec": {
   "display_name": "R",
   "language": "R",
   "name": "ir"
  },
  "language_info": {
   "codemirror_mode": "r",
   "file_extension": ".r",
   "mimetype": "text/x-r-source",
   "name": "R",
   "pygments_lexer": "r",
   "version": "3.4.3"
  }
 },
 "nbformat": 4,
 "nbformat_minor": 2
}
